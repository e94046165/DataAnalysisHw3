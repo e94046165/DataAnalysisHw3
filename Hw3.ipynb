{
 "cells": [
  {
   "cell_type": "markdown",
   "metadata": {},
   "source": [
    "<h1>FDA HW3</h1>\n",
    "\n",
    "<h4>使用以下三種 Model 對股票的漲跌進行預測、比較預測結果：</h4>\n",
    "    \n",
    "1.Logistic Regression\n",
    "\n",
    "2.Support Vector Machine\n",
    "\n",
    "3.Neural Network\n",
    "\n",
    "並對個別 Model 調整參數，觀察預測準確度的變化。"
   ]
  },
  {
   "cell_type": "code",
   "execution_count": 1,
   "metadata": {},
   "outputs": [],
   "source": [
    "import numpy as np # linear algebra\n",
    "np.set_printoptions(threshold=np.inf)\n",
    "import scipy as sp \n",
    "import pandas as pd # data processing, CSV file I/O (e.g. pd.read_csv)\n",
    "# Visualization\n",
    "import matplotlib.pyplot as plt\n",
    "from sklearn import linear_model, metrics"
   ]
  },
  {
   "cell_type": "markdown",
   "metadata": {},
   "source": [
    "<h2>Data & preprocessing</h2>"
   ]
  },
  {
   "cell_type": "code",
   "execution_count": 2,
   "metadata": {},
   "outputs": [
    {
     "data": {
      "text/html": [
       "<div>\n",
       "<style scoped>\n",
       "    .dataframe tbody tr th:only-of-type {\n",
       "        vertical-align: middle;\n",
       "    }\n",
       "\n",
       "    .dataframe tbody tr th {\n",
       "        vertical-align: top;\n",
       "    }\n",
       "\n",
       "    .dataframe thead th {\n",
       "        text-align: right;\n",
       "    }\n",
       "</style>\n",
       "<table border=\"1\" class=\"dataframe\">\n",
       "  <thead>\n",
       "    <tr style=\"text-align: right;\">\n",
       "      <th></th>\n",
       "      <th>Date</th>\n",
       "      <th>Open Price</th>\n",
       "      <th>Close Price</th>\n",
       "      <th>High Price</th>\n",
       "      <th>Low Price</th>\n",
       "      <th>Volume</th>\n",
       "    </tr>\n",
       "  </thead>\n",
       "  <tbody>\n",
       "    <tr>\n",
       "      <th>0</th>\n",
       "      <td>02-Jan-2009</td>\n",
       "      <td>902.99</td>\n",
       "      <td>931.80</td>\n",
       "      <td>934.73</td>\n",
       "      <td>899.35</td>\n",
       "      <td>4048270080</td>\n",
       "    </tr>\n",
       "    <tr>\n",
       "      <th>1</th>\n",
       "      <td>05-Jan-2009</td>\n",
       "      <td>929.17</td>\n",
       "      <td>927.45</td>\n",
       "      <td>936.63</td>\n",
       "      <td>919.53</td>\n",
       "      <td>5413910016</td>\n",
       "    </tr>\n",
       "    <tr>\n",
       "      <th>2</th>\n",
       "      <td>06-Jan-2009</td>\n",
       "      <td>931.17</td>\n",
       "      <td>934.70</td>\n",
       "      <td>943.85</td>\n",
       "      <td>927.28</td>\n",
       "      <td>5392620032</td>\n",
       "    </tr>\n",
       "    <tr>\n",
       "      <th>3</th>\n",
       "      <td>07-Jan-2009</td>\n",
       "      <td>927.45</td>\n",
       "      <td>906.65</td>\n",
       "      <td>927.45</td>\n",
       "      <td>902.37</td>\n",
       "      <td>4704940032</td>\n",
       "    </tr>\n",
       "    <tr>\n",
       "      <th>4</th>\n",
       "      <td>08-Jan-2009</td>\n",
       "      <td>905.73</td>\n",
       "      <td>909.73</td>\n",
       "      <td>910.00</td>\n",
       "      <td>896.81</td>\n",
       "      <td>4991549952</td>\n",
       "    </tr>\n",
       "    <tr>\n",
       "      <th>5</th>\n",
       "      <td>09-Jan-2009</td>\n",
       "      <td>909.91</td>\n",
       "      <td>890.35</td>\n",
       "      <td>911.93</td>\n",
       "      <td>888.31</td>\n",
       "      <td>4716499968</td>\n",
       "    </tr>\n",
       "    <tr>\n",
       "      <th>6</th>\n",
       "      <td>12-Jan-2009</td>\n",
       "      <td>890.40</td>\n",
       "      <td>870.26</td>\n",
       "      <td>890.40</td>\n",
       "      <td>864.32</td>\n",
       "      <td>4725049856</td>\n",
       "    </tr>\n",
       "    <tr>\n",
       "      <th>7</th>\n",
       "      <td>13-Jan-2009</td>\n",
       "      <td>869.79</td>\n",
       "      <td>871.79</td>\n",
       "      <td>877.02</td>\n",
       "      <td>862.02</td>\n",
       "      <td>5017469952</td>\n",
       "    </tr>\n",
       "    <tr>\n",
       "      <th>8</th>\n",
       "      <td>14-Jan-2009</td>\n",
       "      <td>867.28</td>\n",
       "      <td>842.62</td>\n",
       "      <td>867.28</td>\n",
       "      <td>836.93</td>\n",
       "      <td>5407880192</td>\n",
       "    </tr>\n",
       "    <tr>\n",
       "      <th>9</th>\n",
       "      <td>15-Jan-2009</td>\n",
       "      <td>841.99</td>\n",
       "      <td>843.74</td>\n",
       "      <td>851.59</td>\n",
       "      <td>817.04</td>\n",
       "      <td>7807350272</td>\n",
       "    </tr>\n",
       "  </tbody>\n",
       "</table>\n",
       "</div>"
      ],
      "text/plain": [
       "          Date  Open Price  Close Price  High Price  Low Price      Volume\n",
       "0  02-Jan-2009      902.99       931.80      934.73     899.35  4048270080\n",
       "1  05-Jan-2009      929.17       927.45      936.63     919.53  5413910016\n",
       "2  06-Jan-2009      931.17       934.70      943.85     927.28  5392620032\n",
       "3  07-Jan-2009      927.45       906.65      927.45     902.37  4704940032\n",
       "4  08-Jan-2009      905.73       909.73      910.00     896.81  4991549952\n",
       "5  09-Jan-2009      909.91       890.35      911.93     888.31  4716499968\n",
       "6  12-Jan-2009      890.40       870.26      890.40     864.32  4725049856\n",
       "7  13-Jan-2009      869.79       871.79      877.02     862.02  5017469952\n",
       "8  14-Jan-2009      867.28       842.62      867.28     836.93  5407880192\n",
       "9  15-Jan-2009      841.99       843.74      851.59     817.04  7807350272"
      ]
     },
     "execution_count": 2,
     "metadata": {},
     "output_type": "execute_result"
    }
   ],
   "source": [
    "stock_data = pd.read_csv('./stock.csv')\n",
    "stock_data.head(10)"
   ]
  },
  {
   "cell_type": "markdown",
   "metadata": {},
   "source": [
    "原始的 Dataset 中，所包含的性質有：\n",
    "\n",
    "Date:時間\n",
    "\n",
    "Open Price :   開盤價格\n",
    "\n",
    "Close Price:   收盤價格\n",
    "\n",
    "High Price :   當日高點\n",
    "\n",
    "Low Price  :   當日低點\n",
    "\n",
    "Volume     :   成交量\n",
    "\n",
    "但我們關心的資料為漲跌的趨勢，所以新增一個欄位\"up_down\"用來存放隔天的漲跌情形。\n",
    "其中 1 : up ，0 : down 由比較第 i 日與第 i+1 日收盤價格而得，而 index i \n",
    "的\"up_down\"欄位中從放的是 **隔日** 的漲跌情形。\n",
    "(一開始在這個步驟做錯了，將第 i 日的漲跌資料放在 index i 的\"up_down\"欄位中，\n",
    "想說怎麼預測準確率有 8x% ，本來以為是Model的參數設定有誤，在反覆檢查後才發現問\n",
    "題出在最前面。要是準確率有那麼高就好了.....)"
   ]
  },
  {
   "cell_type": "code",
   "execution_count": 31,
   "metadata": {},
   "outputs": [],
   "source": [
    "up_down = np.zeros(len(stock_data))\n",
    "price_diff = np.zeros(len(stock_data))\n",
    "countup = 0\n",
    "for i in range(len(up_down)-1):\n",
    "    if(stock_data.iloc[i,2] < stock_data.iloc[i+1,2]):\n",
    "        up_down[i] = 1\n",
    "        countup += 1\n",
    "    price_diff[i] = stock_data.iloc[i,2] - stock_data.iloc[i,1]\n",
    "#print(countup/len(up_down))"
   ]
  },
  {
   "cell_type": "markdown",
   "metadata": {},
   "source": [
    "又因為要將2018年的資料獨立出來做 test Data 所以用 dataframe 中的 function 將 year 分割出來方便檢索\n",
    "\n",
    "同時加入了 \"price_diff\" 這個欄位紀錄當天的價格變化(由 Open Price - Close Price 得到）"
   ]
  },
  {
   "cell_type": "code",
   "execution_count": 29,
   "metadata": {},
   "outputs": [
    {
     "data": {
      "text/html": [
       "<div>\n",
       "<style scoped>\n",
       "    .dataframe tbody tr th:only-of-type {\n",
       "        vertical-align: middle;\n",
       "    }\n",
       "\n",
       "    .dataframe tbody tr th {\n",
       "        vertical-align: top;\n",
       "    }\n",
       "\n",
       "    .dataframe thead th {\n",
       "        text-align: right;\n",
       "    }\n",
       "</style>\n",
       "<table border=\"1\" class=\"dataframe\">\n",
       "  <thead>\n",
       "    <tr style=\"text-align: right;\">\n",
       "      <th></th>\n",
       "      <th>Date</th>\n",
       "      <th>Open Price</th>\n",
       "      <th>Close Price</th>\n",
       "      <th>High Price</th>\n",
       "      <th>Low Price</th>\n",
       "      <th>Volume</th>\n",
       "      <th>up_down</th>\n",
       "      <th>price_diff</th>\n",
       "      <th>year</th>\n",
       "    </tr>\n",
       "  </thead>\n",
       "  <tbody>\n",
       "    <tr>\n",
       "      <th>0</th>\n",
       "      <td>2009-01-02</td>\n",
       "      <td>902.99</td>\n",
       "      <td>931.80</td>\n",
       "      <td>934.73</td>\n",
       "      <td>899.35</td>\n",
       "      <td>4048270080</td>\n",
       "      <td>0.0</td>\n",
       "      <td>28.81</td>\n",
       "      <td>2009</td>\n",
       "    </tr>\n",
       "    <tr>\n",
       "      <th>1</th>\n",
       "      <td>2009-01-05</td>\n",
       "      <td>929.17</td>\n",
       "      <td>927.45</td>\n",
       "      <td>936.63</td>\n",
       "      <td>919.53</td>\n",
       "      <td>5413910016</td>\n",
       "      <td>1.0</td>\n",
       "      <td>-1.72</td>\n",
       "      <td>2009</td>\n",
       "    </tr>\n",
       "    <tr>\n",
       "      <th>2</th>\n",
       "      <td>2009-01-06</td>\n",
       "      <td>931.17</td>\n",
       "      <td>934.70</td>\n",
       "      <td>943.85</td>\n",
       "      <td>927.28</td>\n",
       "      <td>5392620032</td>\n",
       "      <td>0.0</td>\n",
       "      <td>3.53</td>\n",
       "      <td>2009</td>\n",
       "    </tr>\n",
       "    <tr>\n",
       "      <th>3</th>\n",
       "      <td>2009-01-07</td>\n",
       "      <td>927.45</td>\n",
       "      <td>906.65</td>\n",
       "      <td>927.45</td>\n",
       "      <td>902.37</td>\n",
       "      <td>4704940032</td>\n",
       "      <td>1.0</td>\n",
       "      <td>-20.80</td>\n",
       "      <td>2009</td>\n",
       "    </tr>\n",
       "    <tr>\n",
       "      <th>4</th>\n",
       "      <td>2009-01-08</td>\n",
       "      <td>905.73</td>\n",
       "      <td>909.73</td>\n",
       "      <td>910.00</td>\n",
       "      <td>896.81</td>\n",
       "      <td>4991549952</td>\n",
       "      <td>0.0</td>\n",
       "      <td>4.00</td>\n",
       "      <td>2009</td>\n",
       "    </tr>\n",
       "    <tr>\n",
       "      <th>5</th>\n",
       "      <td>2009-01-09</td>\n",
       "      <td>909.91</td>\n",
       "      <td>890.35</td>\n",
       "      <td>911.93</td>\n",
       "      <td>888.31</td>\n",
       "      <td>4716499968</td>\n",
       "      <td>0.0</td>\n",
       "      <td>-19.56</td>\n",
       "      <td>2009</td>\n",
       "    </tr>\n",
       "    <tr>\n",
       "      <th>6</th>\n",
       "      <td>2009-01-12</td>\n",
       "      <td>890.40</td>\n",
       "      <td>870.26</td>\n",
       "      <td>890.40</td>\n",
       "      <td>864.32</td>\n",
       "      <td>4725049856</td>\n",
       "      <td>1.0</td>\n",
       "      <td>-20.14</td>\n",
       "      <td>2009</td>\n",
       "    </tr>\n",
       "    <tr>\n",
       "      <th>7</th>\n",
       "      <td>2009-01-13</td>\n",
       "      <td>869.79</td>\n",
       "      <td>871.79</td>\n",
       "      <td>877.02</td>\n",
       "      <td>862.02</td>\n",
       "      <td>5017469952</td>\n",
       "      <td>0.0</td>\n",
       "      <td>2.00</td>\n",
       "      <td>2009</td>\n",
       "    </tr>\n",
       "    <tr>\n",
       "      <th>8</th>\n",
       "      <td>2009-01-14</td>\n",
       "      <td>867.28</td>\n",
       "      <td>842.62</td>\n",
       "      <td>867.28</td>\n",
       "      <td>836.93</td>\n",
       "      <td>5407880192</td>\n",
       "      <td>1.0</td>\n",
       "      <td>-24.66</td>\n",
       "      <td>2009</td>\n",
       "    </tr>\n",
       "    <tr>\n",
       "      <th>9</th>\n",
       "      <td>2009-01-15</td>\n",
       "      <td>841.99</td>\n",
       "      <td>843.74</td>\n",
       "      <td>851.59</td>\n",
       "      <td>817.04</td>\n",
       "      <td>7807350272</td>\n",
       "      <td>1.0</td>\n",
       "      <td>1.75</td>\n",
       "      <td>2009</td>\n",
       "    </tr>\n",
       "  </tbody>\n",
       "</table>\n",
       "</div>"
      ],
      "text/plain": [
       "        Date  Open Price  Close Price  High Price  Low Price      Volume  \\\n",
       "0 2009-01-02      902.99       931.80      934.73     899.35  4048270080   \n",
       "1 2009-01-05      929.17       927.45      936.63     919.53  5413910016   \n",
       "2 2009-01-06      931.17       934.70      943.85     927.28  5392620032   \n",
       "3 2009-01-07      927.45       906.65      927.45     902.37  4704940032   \n",
       "4 2009-01-08      905.73       909.73      910.00     896.81  4991549952   \n",
       "5 2009-01-09      909.91       890.35      911.93     888.31  4716499968   \n",
       "6 2009-01-12      890.40       870.26      890.40     864.32  4725049856   \n",
       "7 2009-01-13      869.79       871.79      877.02     862.02  5017469952   \n",
       "8 2009-01-14      867.28       842.62      867.28     836.93  5407880192   \n",
       "9 2009-01-15      841.99       843.74      851.59     817.04  7807350272   \n",
       "\n",
       "   up_down  price_diff  year  \n",
       "0      0.0       28.81  2009  \n",
       "1      1.0       -1.72  2009  \n",
       "2      0.0        3.53  2009  \n",
       "3      1.0      -20.80  2009  \n",
       "4      0.0        4.00  2009  \n",
       "5      0.0      -19.56  2009  \n",
       "6      1.0      -20.14  2009  \n",
       "7      0.0        2.00  2009  \n",
       "8      1.0      -24.66  2009  \n",
       "9      1.0        1.75  2009  "
      ]
     },
     "execution_count": 29,
     "metadata": {},
     "output_type": "execute_result"
    }
   ],
   "source": [
    "stock_data['up_down'] = up_down\n",
    "stock_data['price_diff'] = price_diff\n",
    "stock_data['Date'] = pd.to_datetime(stock_data['Date'])\n",
    "stock_data['year'] = stock_data['Date'].dt.year\n",
    "stock_data.head(10)"
   ]
  },
  {
   "cell_type": "markdown",
   "metadata": {},
   "source": [
    "由下圖可看出來，從2009~2018年，這支股票價格的是逐漸攀升的，但長期來看股價上升，並不代表 **漲的天數** 較多"
   ]
  },
  {
   "cell_type": "code",
   "execution_count": 30,
   "metadata": {},
   "outputs": [
    {
     "data": {
      "image/png": "[encoded data removed]",
      "text/plain": [
       "<Figure size 1080x720 with 1 Axes>"
      ]
     },
     "metadata": {
      "needs_background": "light"
     },
     "output_type": "display_data"
    }
   ],
   "source": [
    "plt.figure(figsize=(15,10))\n",
    "plt.plot_date(stock_data['Date'], stock_data['Close Price'], '-')\n",
    "plt.title('See see Data')\n",
    "plt.xlabel('year')\n",
    "plt.show()"
   ]
  },
  {
   "cell_type": "markdown",
   "metadata": {},
   "source": [
    "這邊稍微做了統計，分別紀錄 2009~2017 、 2018 的漲跌天數比例，可以看出來漲的天數的確較多\n",
    "\n",
    "但卻不像上面的圖那麼樂觀，漲的天數比例不比跌的高上太多。"
   ]
  },
  {
   "cell_type": "code",
   "execution_count": 34,
   "metadata": {},
   "outputs": [
    {
     "name": "stdout",
     "output_type": "stream",
     "text": [
      "training data:\n",
      "1.0    0.546378\n",
      "0.0    0.453622\n",
      "Name: up_down, dtype: float64\n",
      "testing data:\n",
      "1.0    0.519841\n",
      "0.0    0.480159\n",
      "Name: up_down, dtype: float64\n"
     ]
    }
   ],
   "source": [
    "stock_train = stock_data[stock_data['year']!=2018]\n",
    "stock_test = stock_data[stock_data['year']==2018]\n",
    "print(\"training data:\")\n",
    "print(stock_train['up_down'].value_counts()/len(stock_train))\n",
    "print(\"testing data:\")\n",
    "print(stock_test['up_down'].value_counts()/len(stock_test))"
   ]
  },
  {
   "cell_type": "markdown",
   "metadata": {},
   "source": [
    "<h2>Regression</h2>\n",
    "\n",
    "這邊開始引入第一個模型：Regression(迴歸)\n",
    "\n",
    "這裡採用的是 LogisticRegression，首先先不排除任何欄位，\n",
    "\n",
    "所有 feature 作 Regression 的結果是幾乎所有的預測都是1，\n",
    "\n",
    "預測的準確率也就與上面統計漲跌天數比例的機率將近。"
   ]
  },
  {
   "cell_type": "code",
   "execution_count": 33,
   "metadata": {},
   "outputs": [
    {
     "name": "stdout",
     "output_type": "stream",
     "text": [
      "[1. 1. 1. 1. 1. 1. 1. 1. 1. 1. 1. 1. 1. 1. 1. 1. 1. 1. 1. 1. 1. 1. 1. 1.\n",
      " 1. 1. 1. 1. 1. 1. 1. 1. 1. 1. 1. 1. 1. 1. 1. 1. 1. 1. 1. 1. 1. 1. 1. 1.\n",
      " 1. 1. 1. 1. 1. 1. 1. 1. 1. 1. 1. 1. 1. 1. 1. 1. 1. 1. 1. 1. 1. 1. 1. 1.\n",
      " 1. 1. 1. 1. 1. 1. 1. 1. 1. 1. 1. 1. 1. 1. 1. 1. 1. 1. 1. 1. 1. 1. 1. 1.\n",
      " 1. 1. 1. 1. 1. 1. 1. 1. 1. 1. 1. 1. 1. 1. 1. 1. 1. 1. 1. 1. 1. 1. 1. 1.\n",
      " 1. 1. 1. 1. 1. 1. 1. 1. 1. 1. 1. 1. 1. 1. 1. 1. 1. 1. 1. 1. 1. 1. 1. 1.\n",
      " 1. 1. 1. 1. 1. 1. 1. 1. 1. 1. 1. 1. 1. 1. 1. 1. 1. 1. 1. 1. 1. 1. 1. 1.\n",
      " 1. 1. 1. 1. 1. 1. 1. 1. 1. 1. 1. 1. 1. 1. 1. 1. 1. 1. 1. 1. 1. 1. 1. 1.\n",
      " 1. 1. 1. 1. 1. 1. 1. 1. 1. 1. 1. 1. 1. 1. 1. 1. 1. 1. 1. 1. 1. 1. 1. 1.\n",
      " 1. 1. 1. 1. 1. 1. 1. 1. 1. 1. 1. 1. 1. 1. 1. 1. 1. 1. 1. 1. 1. 1. 1. 1.\n",
      " 1. 1. 1. 1. 1. 1. 1. 1. 1. 1. 1. 1.]\n"
     ]
    }
   ],
   "source": [
    "from warnings import simplefilter\n",
    "# ignore all future warnings\n",
    "simplefilter(action='ignore', category=FutureWarning)\n",
    "\n",
    "train_x = stock_train[['Open Price', 'Close Price', 'High Price', 'Low Price', 'Volume','price_diff']]\n",
    "train_y = stock_train['up_down']\n",
    "\n",
    "from sklearn.linear_model import LinearRegression\n",
    "from sklearn.linear_model import LogisticRegression\n",
    "log_reg = LogisticRegression()\n",
    "log_reg.fit(train_x, train_y)\n",
    "#print(log_reg.coef_)\n",
    "test_x = stock_test[['Open Price', 'Close Price', 'High Price', 'Low Price', 'Volume','price_diff']]\n",
    "test_y = stock_test['up_down']\n",
    "log_predict = log_reg.predict(test_x)\n",
    "print(log_predict)"
   ]
  },
  {
   "cell_type": "code",
   "execution_count": 35,
   "metadata": {},
   "outputs": [
    {
     "name": "stdout",
     "output_type": "stream",
     "text": [
      "Accuracy: 0.5198412698412699\n"
     ]
    }
   ],
   "source": [
    "from sklearn.metrics import accuracy_score\n",
    "print(\"Accuracy:\",accuracy_score(test_y, log_predict))"
   ]
  },
  {
   "cell_type": "markdown",
   "metadata": {},
   "source": [
    "接下來試著只對特定幾項 feature 做回歸，\n",
    "\n",
    "一開始猜今日的漲幅可能影響到隔天的漲跌情形。\n",
    "\n",
    "例如如果今天大漲，明天繼續看漲的機率就高，\n",
    "\n",
    "如果今天股價大跌，則明天可能漲的機率也不高。\n",
    "\n",
    "可以看到以 \"price_diff\"(漲幅) 做回歸模型預測的準確率較剛剛稍微高一點。\n",
    "\n",
    "而已當日成交量作回歸模型，準確率則與先前一樣。"
   ]
  },
  {
   "cell_type": "code",
   "execution_count": 9,
   "metadata": {},
   "outputs": [
    {
     "name": "stdout",
     "output_type": "stream",
     "text": [
      "Accuracy: 0.5238095238095238\n"
     ]
    }
   ],
   "source": [
    "train_x_priceDiff = stock_train[['price_diff']]\n",
    "test_x_priceDiff = stock_test[['price_diff']]\n",
    "log_reg_priceDiff = LogisticRegression()\n",
    "log_reg_priceDiff.fit(train_x_priceDiff, train_y)\n",
    "log_predict_priceDiff = log_reg_priceDiff.predict(test_x_priceDiff)\n",
    "print(\"Accuracy:\",accuracy_score(test_y, log_predict_priceDiff))"
   ]
  },
  {
   "cell_type": "code",
   "execution_count": 36,
   "metadata": {},
   "outputs": [
    {
     "name": "stdout",
     "output_type": "stream",
     "text": [
      "Accuracy: 0.5198412698412699\n"
     ]
    }
   ],
   "source": [
    "train_x_Vol = stock_train[['Volume']]\n",
    "test_x_Vol = stock_test[['Volume']]\n",
    "log_reg_Vol = LogisticRegression()\n",
    "log_reg_Vol.fit(train_x_Vol, train_y)\n",
    "log_predict_Vol = log_reg_Vol.predict(test_x_Vol)\n",
    "print(\"Accuracy:\",accuracy_score(test_y, log_predict_Vol))"
   ]
  },
  {
   "cell_type": "markdown",
   "metadata": {},
   "source": [
    "<h2>Support Vector Machine</h2>\n",
    "\n",
    "這邊引入第二個模型：SVM\n",
    "\n",
    "突然發現先前忘記將 Data 作 Scaler\n",
    "\n",
    "這裡會順便比較有無經過 Scaler ，最後準確率的差異。"
   ]
  },
  {
   "cell_type": "code",
   "execution_count": 37,
   "metadata": {},
   "outputs": [
    {
     "name": "stderr",
     "output_type": "stream",
     "text": [
      "/home/acnes2/anaconda3/lib/python3.7/site-packages/sklearn/preprocessing/data.py:625: DataConversionWarning: Data with input dtype int64, float64 were all converted to float64 by StandardScaler.\n",
      "  return self.partial_fit(X, y)\n",
      "/home/acnes2/anaconda3/lib/python3.7/site-packages/ipykernel_launcher.py:11: DataConversionWarning: Data with input dtype int64, float64 were all converted to float64 by StandardScaler.\n",
      "  # This is added back by InteractiveShellApp.init_path()\n",
      "/home/acnes2/anaconda3/lib/python3.7/site-packages/ipykernel_launcher.py:12: DataConversionWarning: Data with input dtype int64, float64 were all converted to float64 by StandardScaler.\n",
      "  if sys.path[0] == '':\n"
     ]
    }
   ],
   "source": [
    "from sklearn.preprocessing import StandardScaler\n",
    "from sklearn import svm\n",
    "\n",
    "train_x_std = stock_train[['Open Price', 'Close Price', 'High Price', 'Low Price', 'Volume','price_diff']]\n",
    "\n",
    "scaler = StandardScaler()\n",
    "scaler.fit(train_x_std)\n",
    "\n",
    "test_x_std = stock_test[['Open Price', 'Close Price', 'High Price', 'Low Price', 'Volume','price_diff']]\n",
    "\n",
    "train_x_std = scaler.transform(train_x_std)\n",
    "test_x_std = scaler.transform(test_x_std)\n",
    "#print((test_x_std))"
   ]
  },
  {
   "cell_type": "markdown",
   "metadata": {},
   "source": [
    "首先一樣測試最基本的 SVM 模型，所有參數能不設的就不設，\n",
    "\n",
    "全部採用 Default 值。得到的結果不比先前的 Regression 所得到\n",
    "\n",
    "的準確率高。"
   ]
  },
  {
   "cell_type": "code",
   "execution_count": 38,
   "metadata": {},
   "outputs": [
    {
     "name": "stdout",
     "output_type": "stream",
     "text": [
      "Accuracy of training data: 0.5618374558303887\n",
      "Accuracy of testing data: 0.5158730158730159\n"
     ]
    }
   ],
   "source": [
    "svm_model = svm.SVC()\n",
    "svm_model = svm_model.fit(train_x_std, train_y)\n",
    "svm_predict_train = svm_model.predict(train_x_std)\n",
    "svm_predict_test = svm_model.predict(test_x_std)\n",
    "\n",
    "print(\"Accuracy of training data:\",accuracy_score(train_y, svm_predict_train))\n",
    "print(\"Accuracy of testing data:\",accuracy_score(test_y, svm_predict_test))\n"
   ]
  },
  {
   "cell_type": "markdown",
   "metadata": {},
   "source": [
    "這裡開始試著調整參數，包括提高 Penalty、iteration 深度不限、提高 degree，\n",
    "\n",
    "但令人百思不得其解的是，這個模型雖然更貼近 training data，但在 testing data\n",
    "\n",
    "的表現卻比原先還差。回頭看了原始的資料發現，2018(testing data)的股價趨勢，與先前\n",
    "\n",
    "的走向大有不同，也難怪用 SVM 的準確率比 Regression 還差。\n",
    "\n",
    "(推測模型愈接近原來的 Training data 則會離 testing data 愈遠）\n"
   ]
  },
  {
   "cell_type": "code",
   "execution_count": 40,
   "metadata": {},
   "outputs": [
    {
     "name": "stdout",
     "output_type": "stream",
     "text": [
      "Accuracy of training data: 0.5631625441696113\n",
      "Accuracy of testing data: 0.47619047619047616\n"
     ]
    }
   ],
   "source": [
    "svm_model2 = svm.SVC(C=3, probability = True, max_iter=-1, degree=5)\n",
    "svm_model2 = svm_model2.fit(train_x_std, train_y)\n",
    "svm_predict_train2 = svm_model2.predict(train_x_std)\n",
    "svm_predict_test2 = svm_model2.predict(test_x_std)\n",
    "\n",
    "print(\"Accuracy of training data:\",accuracy_score(train_y, svm_predict_train2))\n",
    "print(\"Accuracy of testing data:\",accuracy_score(test_y, svm_predict_test2))"
   ]
  },
  {
   "cell_type": "markdown",
   "metadata": {},
   "source": [
    "一樣試著調整 SVM 模型的參數，首先是調整 Penalty，\n",
    "\n",
    "在 Peanlty 提高後(1->1.5)，可以看到準確率稍微下降。"
   ]
  },
  {
   "cell_type": "code",
   "execution_count": 44,
   "metadata": {},
   "outputs": [
    {
     "name": "stdout",
     "output_type": "stream",
     "text": [
      "Accuracy of training data: 0.5627208480565371\n",
      "Accuracy of testing data: 0.5079365079365079\n"
     ]
    }
   ],
   "source": [
    "svm_model3 = svm.SVC(C = 1.5)\n",
    "svm_model3 = svm_model3.fit(train_x_std, train_y)\n",
    "svm_predict_train3 = svm_model3.predict(train_x_std)\n",
    "svm_predict_test3 = svm_model3.predict(test_x_std)\n",
    "\n",
    "print(\"Accuracy of training data:\",accuracy_score(train_y, svm_predict_train3))\n",
    "print(\"Accuracy of testing data:\",accuracy_score(test_y, svm_predict_test3))"
   ]
  },
  {
   "cell_type": "markdown",
   "metadata": {},
   "source": [
    "接著減少 feature 的數量，這次拿掉了 Volume 等欄位，\n",
    "\n",
    "保留當日高低價與當日漲幅，此次的準確率一樣不到 50% ，\n",
    "\n",
    "也比使用同樣 feature 的 Regression 模型的準確率還低。"
   ]
  },
  {
   "cell_type": "code",
   "execution_count": 45,
   "metadata": {},
   "outputs": [
    {
     "name": "stdout",
     "output_type": "stream",
     "text": [
      "Accuracy of training data: 0.5552120141342756\n",
      "Accuracy of testing data: 0.49603174603174605\n"
     ]
    }
   ],
   "source": [
    "train_x_less = stock_train[['High Price', 'Low Price','price_diff']]\n",
    "test_x_less = stock_test[['High Price', 'Low Price','price_diff']]\n",
    "scalerr = StandardScaler()\n",
    "scalerr.fit(train_x_less)\n",
    "\n",
    "train_x_less = scalerr.transform(train_x_less)\n",
    "test_x_less = scalerr.transform(test_x_less)\n",
    "\n",
    "svm_model_less = svm.SVC()\n",
    "svm_model_less = svm_model_less.fit(train_x_less, train_y)\n",
    "svm_predict_train_less = svm_model_less.predict(train_x_less)\n",
    "svm_predict_test_less = svm_model_less.predict(test_x_less)\n",
    "\n",
    "print(\"Accuracy of training data:\",accuracy_score(train_y, svm_predict_train_less))\n",
    "print(\"Accuracy of testing data:\",accuracy_score(test_y, svm_predict_test_less))"
   ]
  },
  {
   "cell_type": "markdown",
   "metadata": {},
   "source": [
    "最後比較有無對資料進行 Scaler 對於 SVM 建立模型並預測的準確率的影響\n",
    "\n",
    "驚訝的發現，它的準確率與使用 Regression 的準確率一樣。\n",
    "\n",
    "可能因為 Volume 的值與其他欄位相比太過極端，導致未經 Scaler 的資料，\n",
    "\n",
    "不管用什麼模型，結果都相去不遠。"
   ]
  },
  {
   "cell_type": "code",
   "execution_count": 46,
   "metadata": {},
   "outputs": [
    {
     "name": "stdout",
     "output_type": "stream",
     "text": [
      "Accuracy of training data(without scaler): 0.5463780918727915\n",
      "Accuracy of testing data(without scaler): 0.5198412698412699\n"
     ]
    }
   ],
   "source": [
    "svm_predict_train = svm_model.predict(train_x)\n",
    "svm_predict_test = svm_model.predict(test_x)\n",
    "print(\"Accuracy of training data(without scaler):\",accuracy_score(train_y, svm_predict_train))\n",
    "print(\"Accuracy of testing data(without scaler):\",accuracy_score(test_y, svm_predict_test))"
   ]
  },
  {
   "cell_type": "markdown",
   "metadata": {},
   "source": [
    "<h2>Neural Network</h2>\n",
    "\n",
    "最後一個模型是 Neural Network ，一開始測試一層 Hidden Layer 的網路，\n",
    "\n",
    "其中含有 100 個 units。這個模型的準確率依舊只比 50% 多上一些。"
   ]
  },
  {
   "cell_type": "code",
   "execution_count": 47,
   "metadata": {},
   "outputs": [
    {
     "name": "stdout",
     "output_type": "stream",
     "text": [
      "_________________________________________________________________\n",
      "Layer (type)                 Output Shape              Param #   \n",
      "=================================================================\n",
      "dense_30 (Dense)             (None, 100)               700       \n",
      "_________________________________________________________________\n",
      "dense_31 (Dense)             (None, 1)                 101       \n",
      "=================================================================\n",
      "Total params: 801\n",
      "Trainable params: 801\n",
      "Non-trainable params: 0\n",
      "_________________________________________________________________\n",
      "0.5238095238095238\n"
     ]
    }
   ],
   "source": [
    "from keras import models, layers, optimizers, regularizers,utils\n",
    "\n",
    "model = models.Sequential()\n",
    "model.add(layers.Dense(input_dim = 6,units = 100,activation='sigmoid'))\n",
    "model.add(layers.Dense(units = 1,activation='sigmoid'))\n",
    "model.compile(loss='binary_crossentropy',optimizer='adam')\n",
    "model.summary()\n",
    "history = model.fit(train_x_std, train_y, epochs=100, verbose=False)\n",
    "neural_predict = model.predict_classes(test_x_std)\n",
    "print(accuracy_score(test_y, neural_predict))"
   ]
  },
  {
   "cell_type": "markdown",
   "metadata": {},
   "source": [
    "這邊試著多加入一層 Hidden Layer，並且調整各層 units 數量，activation func 不變，\n",
    "\n",
    "得到的結果反而比先前還差，這讓我更加懷疑，是不是其實愈符合原來 training data 的資料，\n",
    "\n",
    "愈難在 testing data 中取得好的準確率?"
   ]
  },
  {
   "cell_type": "code",
   "execution_count": 48,
   "metadata": {},
   "outputs": [
    {
     "name": "stdout",
     "output_type": "stream",
     "text": [
      "_________________________________________________________________\n",
      "Layer (type)                 Output Shape              Param #   \n",
      "=================================================================\n",
      "dense_32 (Dense)             (None, 20)                140       \n",
      "_________________________________________________________________\n",
      "dense_33 (Dense)             (None, 50)                1050      \n",
      "_________________________________________________________________\n",
      "dense_34 (Dense)             (None, 1)                 51        \n",
      "=================================================================\n",
      "Total params: 1,241\n",
      "Trainable params: 1,241\n",
      "Non-trainable params: 0\n",
      "_________________________________________________________________\n",
      "0.4722222222222222\n"
     ]
    }
   ],
   "source": [
    "model = models.Sequential()\n",
    "model.add(layers.Dense(input_dim = 6,units = 20,activation='sigmoid'))\n",
    "model.add(layers.Dense(units = 50,activation='sigmoid'))\n",
    "model.add(layers.Dense(units = 1,activation='sigmoid'))\n",
    "model.compile(loss='binary_crossentropy',optimizer='adam')\n",
    "model.summary()\n",
    "history = model.fit(train_x_std, train_y, epochs=100, verbose=False)\n",
    "neural_predict = model.predict_classes(test_x_std)\n",
    "print(accuracy_score(test_y, neural_predict))"
   ]
  },
  {
   "cell_type": "markdown",
   "metadata": {},
   "source": [
    "在 hidden layer與 Units 數量不變的情況下，更換 activation function，\n",
    "\n",
    "發現準確率再度降低，因為對各種 activation function 不慎熟悉，我想得要另外\n",
    "\n",
    "投入時間研究這些函數，才能理解準確率改變背後所代表的意義。"
   ]
  },
  {
   "cell_type": "code",
   "execution_count": 27,
   "metadata": {},
   "outputs": [
    {
     "name": "stdout",
     "output_type": "stream",
     "text": [
      "_________________________________________________________________\n",
      "Layer (type)                 Output Shape              Param #   \n",
      "=================================================================\n",
      "dense_24 (Dense)             (None, 20)                140       \n",
      "_________________________________________________________________\n",
      "dense_25 (Dense)             (None, 50)                1050      \n",
      "_________________________________________________________________\n",
      "dense_26 (Dense)             (None, 1)                 51        \n",
      "=================================================================\n",
      "Total params: 1,241\n",
      "Trainable params: 1,241\n",
      "Non-trainable params: 0\n",
      "_________________________________________________________________\n",
      "0.4444444444444444\n"
     ]
    }
   ],
   "source": [
    "model = models.Sequential()\n",
    "model.add(layers.Dense(input_dim = 6,units = 20,activation='relu'))\n",
    "model.add(layers.Dense(units = 50,activation='relu'))\n",
    "model.add(layers.Dense(units = 1,activation='sigmoid'))\n",
    "model.compile(loss='binary_crossentropy',optimizer='adam')\n",
    "model.summary()\n",
    "history = model.fit(train_x_std, train_y, epochs=100, verbose=False)\n",
    "neural_predict = model.predict_classes(test_x_std)\n",
    "print(accuracy_score(test_y, neural_predict))"
   ]
  },
  {
   "cell_type": "markdown",
   "metadata": {},
   "source": [
    "<h2>Discussion</h2>\n",
    "\n",
    "<h3>How did you preprocess this dataset ?</h3>\n",
    "\n",
    "除了加上當日漲跌這個 target 資料外，我還加了每日漲幅這個直觀的欄位，並且利用 Scaler 對資料進行標準化。\n",
    "\n",
    "但對於當日高低價這兩個欄位我沒有太多的想法，若能對這些欄位進行預先處理，我想準確率能再提升一些。\n",
    "\n",
    "<h3>Which classifier reaches the highest classification accuracy in this dataset ?</h3>\n",
    "\n",
    "一層 Neural Network 有最高的準確率，但在提高了層數與 Units 數量後，理應提高的準確率卻減少了，有可能是我在調整參數上\n",
    "\n",
    "有疏忽，也可能是2018年的走向與前十年的走向差異太大，導致以 2009~2017 年間資料 train 出的 model 準確度不如預期，甚至\n",
    "\n",
    "增加層數還可能導致準確率下降。\n",
    "\n",
    "<h3>How did you improve your classifiers ?</h3>\n",
    "    \n",
    "針對不同的參數如layer層數、units個數、svm 的 degree、進行回歸分析的 feature 等做調整，並觀察結果。"
   ]
  },
  {
   "cell_type": "code",
   "execution_count": null,
   "metadata": {},
   "outputs": [],
   "source": []
  }
 ],
 "metadata": {
  "kernelspec": {
   "display_name": "Python 3",
   "language": "python",
   "name": "python3"
  },
  "language_info": {
   "codemirror_mode": {
    "name": "ipython",
    "version": 3
   },
   "file_extension": ".py",
   "mimetype": "text/x-python",
   "name": "python",
   "nbconvert_exporter": "python",
   "pygments_lexer": "ipython3",
   "version": "3.7.1"
  }
 },
 "nbformat": 4,
 "nbformat_minor": 2
}
